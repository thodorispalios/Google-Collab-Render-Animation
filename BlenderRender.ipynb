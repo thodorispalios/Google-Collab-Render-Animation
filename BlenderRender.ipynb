{
  "nbformat": 4,
  "nbformat_minor": 0,
  "metadata": {
    "colab": {
      "name": "BlenderRender.ipynb",
      "private_outputs": true,
      "provenance": [],
      "authorship_tag": "ABX9TyOvnMGN3Gy0VxtGMKheaxsD"
    },
    "kernelspec": {
      "name": "python3",
      "display_name": "Python 3"
    },
    "language_info": {
      "name": "python"
    },
    "accelerator": "GPU"
  },
  "cells": [
    {
      "cell_type": "code",
      "metadata": {
        "id": "nCx4Oa8NAja1"
      },
      "source": [
        "!wget https://download.blender.org/release/Blender2.93/blender-2.93.0-linux-x64.tar.xz"
      ],
      "execution_count": null,
      "outputs": []
    },
    {
      "cell_type": "code",
      "metadata": {
        "id": "OmK2BSb_AwwO"
      },
      "source": [
        "#Install Blender \n",
        "!tar xf blender-2.93.0-linux-x64.tar.xz"
      ],
      "execution_count": null,
      "outputs": []
    },
    {
      "cell_type": "code",
      "metadata": {
        "id": "LI_v7wL_Az-Y"
      },
      "source": [
        "#Connect Google Drive\n",
        "from google.colab import drive\n",
        "drive.mount('/gdrive')"
      ],
      "execution_count": null,
      "outputs": []
    },
    {
      "cell_type": "code",
      "metadata": {
        "id": "0VfO9YdeA1oY"
      },
      "source": [
        "#Set Paths to Blender Files\n",
        "filename = '/gdrive/MyDrive/BlenderRenders/JapanesePostapocalyptic.blend'"
      ],
      "execution_count": null,
      "outputs": []
    },
    {
      "cell_type": "code",
      "metadata": {
        "id": "8qgRRTo8A3OE"
      },
      "source": [
        "#Render an Animation\n",
        "!sudo ./blender-2.93.0-linux-x64.tar.xz -b $filename -noaudio -E 'CYCLES' -o '//image_####' -s 1 -e 150 -a -- --cycles-device OPTIX"
      ],
      "execution_count": null,
      "outputs": []
    }
  ]
}